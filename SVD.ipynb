{
 "cells": [
  {
   "cell_type": "code",
   "execution_count": 47,
   "metadata": {
    "colab": {
     "base_uri": "https://localhost:8080/",
     "height": 289
    },
    "colab_type": "code",
    "id": "Xj1SGzRLgWj4",
    "outputId": "fe205c20-d4f0-4a4a-deed-26ff3915d3a3"
   },
   "outputs": [
    {
     "name": "stdout",
     "output_type": "stream",
     "text": [
      "[[-0.94679109  0.32184005]\n",
      " [-0.24481854 -0.71798575]\n",
      " [-0.03969757 -0.11083598]\n",
      " [-0.20512097 -0.60714976]]\n",
      "[[35.83924895  0.        ]\n",
      " [ 0.          7.98252206]]\n",
      "[[-0.03435639 -0.04429285 -0.8883508   0.45573088]\n",
      " [-0.06351147 -0.97417073 -0.05631915 -0.20925066]]\n",
      "[[  1.00262368  -0.99977987  29.99908028 -16.00157361]\n",
      " [  0.66545245   5.97193128   8.11727394  -2.799348  ]\n",
      " [  0.10507171   0.92491503   1.31371256  -0.46324776]\n",
      " [  0.56038074   5.04701625   6.80356138  -2.33610025]]\n",
      "[[  1  -1  30 -16]\n",
      " [  1   6   8  -3]\n",
      " [  1   1   1  -1]\n",
      " [  0   5   7  -2]]\n"
     ]
    }
   ],
   "source": [
    "import numpy as np\n",
    "from numpy import linalg as LA\n",
    "\n",
    "#входные данные\n",
    "A = np.array([[1, -1, 30, -16], \n",
    "              [1, 6, 8, -3], \n",
    "              [1, 1, 1, -1], \n",
    "              [0, 5, 7, -2]])\n",
    "\n",
    "#находим U, S, V\n",
    "U, S, V = LA.svd(A, full_matrices=False)\n",
    "#print(U.shape, S.shape, V.shape)\n",
    "#print(U) print(S) print(V)\n",
    "\n",
    "#находим усеченные U, S, V для r\n",
    "r = 2\n",
    "Ur = U[:, :r]\n",
    "Sr = S[:r]\n",
    "Vr = V[:r, :]\n",
    "print(Ur)\n",
    "Srd=np.diag(Sr)\n",
    "print(Srd)\n",
    "print(Vr)\n",
    "\n",
    "#собственные числа слева A*A.T\n",
    "#print(LA.eigvals(A.dot(A.T)))\n",
    "\n",
    "#собственные числа справа A*A.T\n",
    "#print(LA.eigvals(A.T.dot(A)))\n",
    "\n",
    "#восстанавливаем матрицу А и сравниваем с исходной\n",
    "UrSrd=Ur.dot(Srd)\n",
    "Ar=UrSrd.dot(Vr)\n",
    "\n",
    "print(Ar)\n",
    "print(A)"
   ]
  }
 ],
 "metadata": {
  "colab": {
   "collapsed_sections": [],
   "name": "homework#2(SVD).ipynb",
   "provenance": [],
   "toc_visible": true
  },
  "kernelspec": {
   "display_name": "Python 3",
   "language": "python",
   "name": "python3"
  },
  "language_info": {
   "codemirror_mode": {
    "name": "ipython",
    "version": 3
   },
   "file_extension": ".py",
   "mimetype": "text/x-python",
   "name": "python",
   "nbconvert_exporter": "python",
   "pygments_lexer": "ipython3",
   "version": "3.7.1"
  }
 },
 "nbformat": 4,
 "nbformat_minor": 1
}
